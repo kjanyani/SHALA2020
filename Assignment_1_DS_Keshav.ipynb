{
  "nbformat": 4,
  "nbformat_minor": 0,
  "metadata": {
    "colab": {
      "name": "Assignment -1 - DS Keshav.ipynb",
      "provenance": [],
      "collapsed_sections": []
    },
    "kernelspec": {
      "name": "python3",
      "display_name": "Python 3"
    }
  },
  "cells": [
    {
      "cell_type": "markdown",
      "metadata": {
        "id": "hmr2U-GChnlR",
        "colab_type": "text"
      },
      "source": [
        "\n",
        "# **Assignment - 1 : Getting Started**\n",
        "\n",
        "---\n",
        "\n",
        "This assignment will get you familiarized with python libraries required for ***data science*** and ***machine learning***. You will have to complete the code snippets and run them. "
      ]
    },
    {
      "cell_type": "markdown",
      "metadata": {
        "id": "211pD45xEO0u",
        "colab_type": "text"
      },
      "source": [
        "## **Note :**   Use only the methods and attributes of the ```numpy``` library. **Do not** hard-code them. Avoid loops as much as possible."
      ]
    },
    {
      "cell_type": "markdown",
      "metadata": {
        "id": "O7v9C4mun3SQ",
        "colab_type": "text"
      },
      "source": [
        "---\n",
        "## Part - 1\n",
        " In this part, you will work with the library ```numpy```. \n",
        "\n",
        "\n"
      ]
    },
    {
      "cell_type": "markdown",
      "metadata": {
        "id": "846yDaXQwiMD",
        "colab_type": "text"
      },
      "source": [
        "Import ```numpy``` with an alias name ```np```. Initialize two arrays $a$, $b$ of size $3 \\times 5$ with random values and print them. "
      ]
    },
    {
      "cell_type": "code",
      "metadata": {
        "id": "_MyeCO3_o3oq",
        "colab_type": "code",
        "colab": {
          "base_uri": "https://localhost:8080/",
          "height": 102
        },
        "outputId": "6097450f-f1eb-4de8-9102-6b59f5c2c33e"
      },
      "source": [
        "import numpy as np\n",
        "a=np.random.rand(3,5)\n",
        "b=np.random.rand(3,5)\n",
        "print(a,b)"
      ],
      "execution_count": 29,
      "outputs": [
        {
          "output_type": "stream",
          "text": [
            "[[0.1920723  0.72566962 0.7849367  0.97209836 0.85097142]\n",
            " [0.54359433 0.08979087 0.48887324 0.92793635 0.7876182 ]\n",
            " [0.48509423 0.45527936 0.21798577 0.17721338 0.07362367]] [[0.89239319 0.64017662 0.14333232 0.41412692 0.04910892]\n",
            " [0.20937335 0.73070812 0.65112277 0.4789783  0.27478051]\n",
            " [0.65222313 0.95644951 0.43552056 0.07013251 0.05773149]]\n"
          ],
          "name": "stdout"
        }
      ]
    },
    {
      "cell_type": "markdown",
      "metadata": {
        "id": "p7jtpYT4wiO6",
        "colab_type": "text"
      },
      "source": [
        "Initialize and print two arrays $c$ and $d$ having the following properties:\n",
        "*   $c$ is a row vector with all non-negative integer values less than 100\n",
        "* $d$ is a square matrix of size 3 having all entries as 0.0"
      ]
    },
    {
      "cell_type": "code",
      "metadata": {
        "id": "a2lJdRf8x9f2",
        "colab_type": "code",
        "colab": {
          "base_uri": "https://localhost:8080/",
          "height": 102
        },
        "outputId": "6dc1e203-8cdc-4cab-8c78-a4ecf1525be4"
      },
      "source": [
        "c=np.arange(0,100)\n",
        "d=np.zeros(3)\n",
        "print(c,d)\n",
        "\n",
        "\n"
      ],
      "execution_count": 30,
      "outputs": [
        {
          "output_type": "stream",
          "text": [
            "[ 0  1  2  3  4  5  6  7  8  9 10 11 12 13 14 15 16 17 18 19 20 21 22 23\n",
            " 24 25 26 27 28 29 30 31 32 33 34 35 36 37 38 39 40 41 42 43 44 45 46 47\n",
            " 48 49 50 51 52 53 54 55 56 57 58 59 60 61 62 63 64 65 66 67 68 69 70 71\n",
            " 72 73 74 75 76 77 78 79 80 81 82 83 84 85 86 87 88 89 90 91 92 93 94 95\n",
            " 96 97 98 99] [0. 0. 0.]\n"
          ],
          "name": "stdout"
        }
      ]
    },
    {
      "cell_type": "markdown",
      "metadata": {
        "id": "qqgtSsa88Zmh",
        "colab_type": "text"
      },
      "source": [
        "We have $e$ as following : ```e = [[1,2,3],[4,5,6],[7,8,9]]```. Change $e$ as a numpy array and print it."
      ]
    },
    {
      "cell_type": "code",
      "metadata": {
        "id": "Krhm4bVE7RET",
        "colab_type": "code",
        "colab": {
          "base_uri": "https://localhost:8080/",
          "height": 85
        },
        "outputId": "14e704a3-49ec-4c20-d8e2-800489120b7b"
      },
      "source": [
        "e = [[1,2,3],[4,5,6],[7,8,9]]\n",
        "print(e)\n",
        "e=np.asarray(e)\n",
        "print(e)"
      ],
      "execution_count": 31,
      "outputs": [
        {
          "output_type": "stream",
          "text": [
            "[[1, 2, 3], [4, 5, 6], [7, 8, 9]]\n",
            "[[1 2 3]\n",
            " [4 5 6]\n",
            " [7 8 9]]\n"
          ],
          "name": "stdout"
        }
      ]
    },
    {
      "cell_type": "markdown",
      "metadata": {
        "id": "1qTikI0foam9",
        "colab_type": "text"
      },
      "source": [
        "$f$ and $g$ are two square matrices of size 5 such that all the entries of $f$ are 1 and $g$ is an identity matrix. Initialize them and print them"
      ]
    },
    {
      "cell_type": "code",
      "metadata": {
        "id": "DvaLckI49aBV",
        "colab_type": "code",
        "colab": {
          "base_uri": "https://localhost:8080/",
          "height": 170
        },
        "outputId": "4353be74-30f3-45f6-8c14-a25924ef9108"
      },
      "source": [
        "f=np.ones([5,5])\n",
        "g=np.eye(5)\n",
        "print(f,g)"
      ],
      "execution_count": 32,
      "outputs": [
        {
          "output_type": "stream",
          "text": [
            "[[1. 1. 1. 1. 1.]\n",
            " [1. 1. 1. 1. 1.]\n",
            " [1. 1. 1. 1. 1.]\n",
            " [1. 1. 1. 1. 1.]\n",
            " [1. 1. 1. 1. 1.]] [[1. 0. 0. 0. 0.]\n",
            " [0. 1. 0. 0. 0.]\n",
            " [0. 0. 1. 0. 0.]\n",
            " [0. 0. 0. 1. 0.]\n",
            " [0. 0. 0. 0. 1.]]\n"
          ],
          "name": "stdout"
        }
      ]
    },
    {
      "cell_type": "markdown",
      "metadata": {
        "id": "gcBZAZibAKcg",
        "colab_type": "text"
      },
      "source": [
        "Reshape $c$ into a $10 \\times 10$ matrix and name it $h$. Now flatten $h$, call it $c^\\prime$ and print **YES** when the shapes of $c$ and $c^\\prime$ are same. Otherwise print **NO**."
      ]
    },
    {
      "cell_type": "code",
      "metadata": {
        "id": "I71vtO9bA9Pi",
        "colab_type": "code",
        "colab": {
          "base_uri": "https://localhost:8080/",
          "height": 88
        },
        "outputId": "9a368b65-8a2b-432b-e3fa-e37b487d4224"
      },
      "source": [
        "c1=np.reshape(c,[10,10])\n",
        "print('YES' if c1==c else 'NO')"
      ],
      "execution_count": 33,
      "outputs": [
        {
          "output_type": "stream",
          "text": [
            "NO\n"
          ],
          "name": "stdout"
        },
        {
          "output_type": "stream",
          "text": [
            "/usr/local/lib/python3.6/dist-packages/ipykernel_launcher.py:2: DeprecationWarning: elementwise comparison failed; this will raise an error in the future.\n",
            "  \n"
          ],
          "name": "stderr"
        }
      ]
    },
    {
      "cell_type": "markdown",
      "metadata": {
        "id": "8FrecDPiA-Bv",
        "colab_type": "text"
      },
      "source": [
        "Let $A$ denote a randomly initialized three dimensional matrix of shape (2,10,5). Transpose $A$, call it $A^\\prime$, such that its shape is (5,2,10) and print it."
      ]
    },
    {
      "cell_type": "code",
      "metadata": {
        "id": "VbOKqSm6Bkaq",
        "colab_type": "code",
        "colab": {
          "base_uri": "https://localhost:8080/",
          "height": 595
        },
        "outputId": "055b1f1f-812d-4cc4-8f49-52cca8c564b2"
      },
      "source": [
        "A = np.random.rand(2,10,5)\n",
        "A1=np.transpose(A,(2,0,1))\n",
        "print(A1)"
      ],
      "execution_count": 34,
      "outputs": [
        {
          "output_type": "stream",
          "text": [
            "[[[8.28710188e-02 2.60345073e-01 8.64119669e-01 8.41419619e-01\n",
            "   3.13819115e-01 7.98964319e-01 8.27862801e-01 8.33687884e-01\n",
            "   8.48303897e-01 9.55668150e-02]\n",
            "  [9.65293351e-01 8.40561085e-01 5.16784366e-01 7.40377963e-02\n",
            "   6.85499183e-02 4.36357084e-01 6.18736583e-01 2.23322973e-01\n",
            "   4.61548152e-01 6.94764977e-01]]\n",
            "\n",
            " [[9.59707187e-01 6.91977512e-01 2.90872446e-01 7.27152079e-01\n",
            "   4.19582757e-01 9.71624297e-01 9.65228149e-01 8.72179508e-01\n",
            "   3.14652999e-01 8.36912139e-01]\n",
            "  [7.51027307e-01 4.54973059e-02 1.56262424e-01 4.78915452e-01\n",
            "   7.64962823e-02 4.97782831e-01 1.57244658e-01 2.42978180e-01\n",
            "   1.62520685e-01 3.90958016e-01]]\n",
            "\n",
            " [[5.40760836e-01 8.95570328e-01 7.41082406e-01 3.59107525e-01\n",
            "   8.77212039e-01 3.67702983e-01 6.98809998e-01 9.21315918e-02\n",
            "   2.79294597e-01 5.34734870e-01]\n",
            "  [3.43093864e-01 5.56415411e-02 9.77952410e-01 6.22794804e-02\n",
            "   5.38792658e-01 5.83311915e-01 2.75508475e-01 4.79507305e-01\n",
            "   6.79501804e-01 4.62962030e-02]]\n",
            "\n",
            " [[8.37462433e-01 3.40688484e-01 1.58033655e-01 7.26689751e-01\n",
            "   1.53740209e-01 2.04939769e-01 4.82497042e-01 2.15949471e-01\n",
            "   4.30815022e-01 7.74967815e-01]\n",
            "  [9.48527647e-01 7.42737274e-01 5.02751048e-01 8.84241431e-01\n",
            "   7.55664045e-02 6.20512681e-01 7.98718271e-01 7.45522042e-04\n",
            "   7.95204587e-01 4.39421533e-01]]\n",
            "\n",
            " [[1.70033544e-01 6.46731980e-02 6.94963435e-01 1.39467124e-01\n",
            "   8.80124790e-01 2.40570320e-01 2.87049765e-01 8.31761090e-01\n",
            "   5.39446500e-01 2.30836266e-01]\n",
            "  [7.00511779e-01 3.04686433e-01 8.29001078e-01 4.45810179e-01\n",
            "   1.83772318e-01 3.72811500e-01 1.53089301e-01 3.03113605e-02\n",
            "   5.78163359e-01 3.71980312e-01]]]\n"
          ],
          "name": "stdout"
        }
      ]
    },
    {
      "cell_type": "markdown",
      "metadata": {
        "id": "xR2zd-nkCani",
        "colab_type": "text"
      },
      "source": [
        "You have a matrix $X$ of size (10,5) filled with random values. Print the following :\n",
        "* Minimum value and index where it occured, for each column\n",
        "* Maximum value and the index where it occured, for each column\n",
        "* Minimum value and index where it occured, for each row\n",
        "* Maximum value and index where it occured, for each row\n",
        "* Minimum value and index where it occured, for the entire matrix\n",
        "* Maximum value and index where it occured, for the entire matrix"
      ]
    },
    {
      "cell_type": "code",
      "metadata": {
        "id": "FR2Wd4fWD_Og",
        "colab_type": "code",
        "colab": {
          "base_uri": "https://localhost:8080/",
          "height": 255
        },
        "outputId": "f24efcd4-a252-4a6b-ec61-b8861167e3e2"
      },
      "source": [
        "np.random.seed(0)\n",
        "X = np.random.rand(10,5)\n",
        "#print(X)\n",
        "print(\"Minimum value and index where it occured, for each column\")\n",
        "print(np.min(X,axis=0),np.argmin(X,axis=0))\n",
        "print(\"Maximum value and index where it occured, for each column\" )\n",
        "print(np.max(X,axis=0),np.argmax(X,axis=0))\n",
        "print(\"Minimum value and index where it occured, for each row\")\n",
        "print(np.min(X,axis=1),np.argmin(X,axis=1))\n",
        "print(\"Maximum value and index where it occured, for each row\")\n",
        "print(np.max(X,axis=1),np.argmax(X,axis=1))\n",
        "print(\"Minimum value and index where it occured, for the entire matrix\")\n",
        "print(np.amin(X),np.where(X == np.amin(X)))\n",
        "print(\"Maximum value and index where it occured, for the entire matrix\")\n",
        "print(np.amax(X),np.where(X == np.amax(X)))"
      ],
      "execution_count": 35,
      "outputs": [
        {
          "output_type": "stream",
          "text": [
            "Minimum value and index where it occured, for each column\n",
            "[0.0871293  0.0202184  0.1289263  0.06022547 0.0187898 ] [3 3 9 8 6]\n",
            "Maximum value and index where it occured, for each column\n",
            "[0.97861834 0.79915856 0.94466892 0.96366276 0.87001215] [4 4 5 1 3]\n",
            "Minimum value and index where it occured, for each row\n",
            "[0.4236548  0.38344152 0.07103606 0.0202184  0.11827443 0.14335329\n",
            " 0.0187898  0.61209572 0.06022547 0.1289263 ] [4 4 4 1 4 1 4 1 3 2]\n",
            "Maximum value and index where it occured, for each row\n",
            "[0.71518937 0.96366276 0.92559664 0.87001215 0.97861834 0.94466892\n",
            " 0.77423369 0.94374808 0.6976312  0.67063787] [1 3 3 4 0 2 1 3 2 0]\n",
            "Minimum value and index where it occured, for the entire matrix\n",
            "0.018789800436355142 (array([6]), array([4]))\n",
            "Maximum value and index where it occured, for the entire matrix\n",
            "0.978618342232764 (array([4]), array([0]))\n"
          ],
          "name": "stdout"
        }
      ]
    },
    {
      "cell_type": "markdown",
      "metadata": {
        "id": "YpjW2ypkEGtS",
        "colab_type": "text"
      },
      "source": [
        "Find and print the following for the matrix X: \n",
        "* Mean of each row and column\n",
        "* Standard deviation of each row and column\n",
        "* Mean of the entire matrix\n",
        "* Standard deviation of entire matrix"
      ]
    },
    {
      "cell_type": "code",
      "metadata": {
        "id": "gMdm2pw0GWjf",
        "colab_type": "code",
        "colab": {
          "base_uri": "https://localhost:8080/",
          "height": 255
        },
        "outputId": "dc7fd0f1-891c-485f-ab78-961c06a204f7"
      },
      "source": [
        "print(\"Mean of each row is\")\n",
        "print(np.mean(X,axis=1))\n",
        "print(\"Mean of each columns is\")\n",
        "print(np.mean(X,axis=0))\n",
        "print(\"Standard Deviation of each row is\")\n",
        "print(np.std(X,axis=1))\n",
        "print(\"Standard Deviation of each column is\")\n",
        "print(np.std(X,axis=0))\n",
        "print(\"Mean of all entries in X is\")\n",
        "print(np.mean(X))\n",
        "print(\"Standard Deviation of all entries in X is\")\n",
        "print(np.std(X))"
      ],
      "execution_count": 36,
      "outputs": [
        {
          "output_type": "stream",
          "text": [
            "Mean of each row is\n",
            "[0.56706085 0.66447172 0.57705944 0.51762729 0.62761197 0.5328907\n",
            " 0.41643268 0.69444672 0.44423265 0.33781717]\n",
            "Mean of each columns is\n",
            "[0.56044382 0.46781457 0.62009909 0.64025127 0.40121685]\n",
            "Standard Deviation of each row is\n",
            "[0.09445299 0.23322986 0.29189733 0.38052993 0.30431633 0.26338419\n",
            " 0.25841437 0.12727959 0.23169975 0.18537332]\n",
            "Standard Deviation of each column is\n",
            "[0.24687647 0.25752158 0.22948615 0.28054144 0.26584905]\n",
            "Mean of all entries in X is\n",
            "0.5379651182755409\n",
            "Standard Deviation of all entries in X is\n",
            "0.27226582292177587\n"
          ],
          "name": "stdout"
        }
      ]
    },
    {
      "cell_type": "markdown",
      "metadata": {
        "id": "7dw7W8HOGXKA",
        "colab_type": "text"
      },
      "source": [
        "Let $Y$ denote a square matrix of size 10 with random values. Print the following:\n",
        "* Determinant\n",
        "* Rank of the matrix\n",
        "* Diagonal Elements\n",
        "* Trace\n",
        "* Eigen values\n",
        "* Matrices obtained after Singular Value Decomposition\n",
        "* Inverse if exists, otherwise Pseudo-Inverse\n",
        "* Multiplication $Y$ with $X$\n",
        "* Element-wise multiplication of $Y$ and its inverse(or pseudo-inverse)"
      ]
    },
    {
      "cell_type": "code",
      "metadata": {
        "id": "Tswbn9hgL7yi",
        "colab_type": "code",
        "colab": {
          "base_uri": "https://localhost:8080/",
          "height": 1000
        },
        "outputId": "b7ee4fba-3665-4a2c-9cc9-569aeaaf3296"
      },
      "source": [
        "np.random.seed(3)\n",
        "Y = np.random.rand(10,10)\n",
        "print(\"The determinant of Y\")\n",
        "print(np.linalg.det(Y))\n",
        "print(\"The rank of Y\")\n",
        "print(np.linalg.matrix_rank(Y))\n",
        "print(\"The eigenvalues of Y\")\n",
        "print(np.linalg.eigvals(Y))\n",
        "print(\"The SVD Decomposition of Y\")\n",
        "print(np.linalg.svd(Y))\n",
        "print(\"The inverse of Y\")\n",
        "print(np.linalg.pinv(Y))\n",
        "print(\"The matrix Y times X\")\n",
        "print(np.dot(Y,X))\n",
        "print(\"The elementwise product of Y with its invers\")\n",
        "print(Y*np.linalg.pinv(Y))"
      ],
      "execution_count": 37,
      "outputs": [
        {
          "output_type": "stream",
          "text": [
            "The determinant of Y\n",
            "-0.012807808169095483\n",
            "The rank of Y\n",
            "10\n",
            "The eigenvalues of Y\n",
            "[ 4.797525  +0.j          0.72411408+0.52238181j  0.72411408-0.52238181j\n",
            " -0.48250062+0.55413671j -0.48250062-0.55413671j -0.6909002 +0.j\n",
            " -0.25905659+0.32357377j -0.25905659-0.32357377j  0.2127855 +0.08352477j\n",
            "  0.2127855 -0.08352477j]\n",
            "The SVD Decomposition of Y\n",
            "(array([[-0.31776408, -0.02455508, -0.60644878, -0.17883359, -0.12672161,\n",
            "         0.14873878, -0.17823942, -0.52859453, -0.02295855, -0.38570883],\n",
            "       [-0.26118514, -0.10864541, -0.24911354,  0.26547359,  0.52168399,\n",
            "        -0.25773901, -0.46995326,  0.21752636, -0.39285046,  0.16234491],\n",
            "       [-0.31347907, -0.34483471, -0.25292297,  0.1214296 ,  0.1486964 ,\n",
            "         0.33436315,  0.54080229,  0.48017168,  0.05660692, -0.20966421],\n",
            "       [-0.35815379,  0.59490017,  0.30255161,  0.15850614, -0.11046295,\n",
            "         0.3051409 ,  0.07395537,  0.03044889, -0.50561658, -0.18384856],\n",
            "       [-0.28385845, -0.18085696, -0.1583078 ,  0.10535533, -0.46807835,\n",
            "        -0.08377643,  0.24075452, -0.16170764, -0.24786952,  0.69201648],\n",
            "       [-0.28871348, -0.27577124,  0.40271105,  0.60433658,  0.11931679,\n",
            "        -0.04899205,  0.02593316, -0.44875145,  0.27874747, -0.12964796],\n",
            "       [-0.27897316,  0.00398904,  0.20819753, -0.52536617,  0.41116881,\n",
            "        -0.41991923,  0.42687225, -0.24145621, -0.12958507, -0.00984813],\n",
            "       [-0.24788529,  0.48136836, -0.15792433, -0.02303902,  0.3246308 ,\n",
            "         0.25755952, -0.01429533, -0.03088365,  0.56052488,  0.44079262],\n",
            "       [-0.37505167, -0.36728578,  0.39799373, -0.45186801, -0.10830044,\n",
            "         0.34456765, -0.4447402 ,  0.14147957,  0.0716725 ,  0.09192695],\n",
            "       [-0.40049601,  0.19846099, -0.02705464,  0.02500837, -0.39745062,\n",
            "        -0.57941613, -0.10288216,  0.3673956 ,  0.33321483, -0.22039139]]), array([4.89636645, 1.42832104, 1.17173389, 0.94068764, 0.76892251,\n",
            "       0.62457278, 0.52105948, 0.28969576, 0.24512275, 0.09350223]), array([[-0.28816735, -0.35560525, -0.33294235, -0.33250662, -0.36658188,\n",
            "        -0.3625847 , -0.26573249, -0.23278667, -0.30457183, -0.29270444],\n",
            "       [ 0.53693497,  0.11306854,  0.39562078,  0.25099719, -0.07369559,\n",
            "        -0.37753546, -0.08584363,  0.00333609, -0.2399022 , -0.51623983],\n",
            "       [-0.084609  , -0.22589744, -0.00306935,  0.1954239 , -0.327784  ,\n",
            "        -0.49318928,  0.42323124,  0.18588504,  0.58200169,  0.02301787],\n",
            "       [ 0.01388163, -0.2631197 ,  0.42190391, -0.53612946,  0.01058633,\n",
            "        -0.04415909,  0.29385139,  0.49501812, -0.32731018,  0.15669071],\n",
            "       [-0.27340804,  0.28220631,  0.28945859, -0.1626885 ,  0.14790418,\n",
            "        -0.35915036, -0.64971879,  0.23854611,  0.29589227,  0.1337842 ],\n",
            "       [ 0.10830593,  0.27974551, -0.20571161,  0.10308827,  0.10096026,\n",
            "        -0.5325142 ,  0.15994871, -0.16150892, -0.3941055 ,  0.59692177],\n",
            "       [ 0.44882085,  0.34972045, -0.01773924, -0.50737391, -0.52251393,\n",
            "         0.11970007, -0.02807841, -0.20137782,  0.25705553,  0.15409283],\n",
            "       [-0.35599817, -0.05022624,  0.63427946,  0.20935183, -0.34847081,\n",
            "         0.11510691,  0.03182222, -0.47748403, -0.1161671 ,  0.21777064],\n",
            "       [ 0.18417681, -0.32168889,  0.15954963, -0.32397524,  0.5548368 ,\n",
            "        -0.1807982 ,  0.08626619, -0.55063636,  0.28439362, -0.01119242],\n",
            "       [-0.41560913,  0.59522266,  0.02089304, -0.23979844,  0.13515565,\n",
            "        -0.0893732 ,  0.44674689, -0.10709455, -0.02239562, -0.42098815]]))\n",
            "The inverse of Y\n",
            "[[ 2.31470983 -1.92264991  0.7642126   0.78096977 -2.74248585  1.20175092\n",
            "   0.38693174 -1.37664514 -0.96484143  0.83123246]\n",
            " [-2.24504111  1.25605742 -0.91466223 -0.39587642  4.71823627 -1.32162185\n",
            "   0.52594984  2.39368168  0.33051878 -2.33540101]\n",
            " [-1.41290916  0.66149939  0.94968095 -0.18869248 -0.50069581 -0.55664939\n",
            "  -0.55275157  0.57384943 -0.04209635  1.11025544]\n",
            " [ 0.88051129  0.37055438  0.15632501  1.25248223 -1.81219563 -0.7249179\n",
            "  -0.19613524 -1.81766381  0.56943994  0.52226388]\n",
            " [ 0.39743656 -0.28842728 -1.09880632 -1.57965965  0.36480771  0.90235521\n",
            "  -0.47743451  2.09911148  0.53638288 -0.04562024]\n",
            " [ 0.36068175  0.22958502  0.33426258  0.10367281 -0.06700744 -0.37158555\n",
            "   0.22972702 -1.26286862 -0.45133033  0.75430018]\n",
            " [-2.01045364  0.19347423 -1.01393804 -0.74303568  3.56449935 -0.31892146\n",
            "  -0.67116163  2.01265699  0.72873355 -0.69454601]\n",
            " [ 1.18043988  0.86047396 -0.88991494  1.30425635 -0.14247318  0.69661973\n",
            "   0.5413572  -1.69774697 -0.60797727 -1.00698216]\n",
            " [-0.1679456  -0.63197036 -0.0540802  -0.73587818 -0.46423184  0.67805628\n",
            "   0.88551393  0.37662528 -0.03416891  0.42341327]\n",
            " [ 1.3938872  -0.74982353  1.96636643  1.00676681 -3.21953806  0.44078124\n",
            "  -0.40298654 -1.90114336 -0.04414834  0.55576763]]\n",
            "The matrix Y times X\n",
            "[[2.95726101 2.04939653 3.09073485 3.22311637 1.78554985]\n",
            " [2.61266989 1.75663954 2.48635951 2.79783984 1.50654432]\n",
            " [2.98361778 2.02894044 2.82637865 2.88685728 1.69799548]\n",
            " [2.98565892 2.85485651 3.58995669 4.0073463  2.2697569 ]\n",
            " [2.49815821 1.97791033 2.77809758 2.71690515 1.59098767]\n",
            " [2.72146909 2.39905911 2.58780909 2.78212857 1.71792628]\n",
            " [2.22935358 1.74438251 2.94718357 2.48955906 2.05838199]\n",
            " [2.30476788 1.92350098 2.41698824 2.81379687 1.38016019]\n",
            " [2.91925254 2.36604123 3.53647969 3.30424184 2.52990887]\n",
            " [3.39559098 2.84629279 4.05845051 4.01068273 2.35816262]]\n",
            "The elementwise product of Y with its invers\n",
            "[[ 1.27493732 -1.36152035  0.22231307  0.39894092 -2.44889439  1.07712104\n",
            "   0.04859294 -0.2852999  -0.04965769  0.36641545]\n",
            " [-0.06707332  0.57380876 -0.59374754 -0.11024655  3.19073041 -0.78089721\n",
            "   0.01261327  1.33771879  0.0856878  -0.96942775]\n",
            " [-0.40059519  0.45851031  0.4182905  -0.02959976 -0.27270348 -0.43436174\n",
            "  -0.16934292  0.12737041 -0.01633217  1.03962504]\n",
            " [ 0.85937499  0.24915472  0.14113555  1.05928794 -0.68499915 -0.06684976\n",
            "  -0.12815691 -1.01396696  0.20588942  0.11753784]\n",
            " [ 0.16156588 -0.13525516 -0.29583776 -0.46093327  0.16696753  0.77650726\n",
            "  -0.27989737  0.59507263  0.14910237 -0.02073997]\n",
            " [ 0.07408776  0.04623354  0.17182269  0.00904331 -0.03240383 -0.13457945\n",
            "   0.16257474 -0.94304237 -0.3119112   0.51984891]\n",
            " [-0.75110573  0.12926687 -0.34458549 -0.42560628  1.1613394  -0.14196631\n",
            "  -0.04129586  0.48842239  0.70803941 -0.16015134]\n",
            " [ 0.81624763  0.5597184  -0.64424426  0.61963734 -0.08500859  0.04665222\n",
            "   0.03928204 -0.33781095 -0.09232803 -0.10080329]\n",
            " [-0.02171434 -0.34965513 -0.01015706 -0.70063053 -0.31642589  0.36684179\n",
            "   0.62621827  0.09938639 -0.03166521  0.35532547]\n",
            " [ 1.01240745 -0.36009522  1.65588343  0.74979192 -2.12594439  0.40286315\n",
            "  -0.25535869 -0.69570551 -0.02440717  0.10914197]]\n"
          ],
          "name": "stdout"
        }
      ]
    },
    {
      "cell_type": "markdown",
      "metadata": {
        "id": "Qne3RnfOL6-4",
        "colab_type": "text"
      },
      "source": [
        "## End of Part - 1\n",
        " --- --- ---"
      ]
    },
    {
      "cell_type": "markdown",
      "metadata": {
        "id": "LA-m4UYkMPTe",
        "colab_type": "text"
      },
      "source": [
        "## Part - 2\n",
        "---\n",
        "In this part, you will be working with the library ```pandas```. Import this library with an alias name ```pd```."
      ]
    },
    {
      "cell_type": "code",
      "metadata": {
        "id": "i8z7TpnZSIms",
        "colab_type": "code",
        "colab": {}
      },
      "source": [
        "# Initial imports\n",
        "import numpy as np\n",
        "import pandas as pd\n",
        "import matplotlib.pyplot as plt\n"
      ],
      "execution_count": 0,
      "outputs": []
    },
    {
      "cell_type": "markdown",
      "metadata": {
        "id": "2v-HkHnyuQ3X",
        "colab_type": "text"
      },
      "source": [
        "Download dataset from: http://biostat.mc.vanderbilt.edu/wiki/pub/Main/DataSets/titanic3.csv\n",
        "Read the data and display the first 5 rows"
      ]
    },
    {
      "cell_type": "code",
      "metadata": {
        "id": "LinX5ywNTUIm",
        "colab_type": "code",
        "colab": {}
      },
      "source": [
        "#Download dataset from: http://biostat.mc.vanderbilt.edu/wiki/pub/Main/DataSets/titanic3.csv\n",
        "\n",
        "file_url = \"http://biostat.mc.vanderbilt.edu/wiki/pub/Main/DataSets/titanic3.csv\"\n",
        "Dataset=pd.read_csv(file_url)"
      ],
      "execution_count": 0,
      "outputs": []
    },
    {
      "cell_type": "code",
      "metadata": {
        "id": "0tNa0CbQRziD",
        "colab_type": "code",
        "colab": {
          "base_uri": "https://localhost:8080/",
          "height": 153
        },
        "outputId": "dc667357-4308-467d-9f30-6f97e7e8edc2"
      },
      "source": [
        "print(Dataset.head())"
      ],
      "execution_count": 40,
      "outputs": [
        {
          "output_type": "stream",
          "text": [
            "   pclass  survived  ...   body                        home.dest\n",
            "0       1         1  ...    NaN                     St Louis, MO\n",
            "1       1         1  ...    NaN  Montreal, PQ / Chesterville, ON\n",
            "2       1         0  ...    NaN  Montreal, PQ / Chesterville, ON\n",
            "3       1         0  ...  135.0  Montreal, PQ / Chesterville, ON\n",
            "4       1         0  ...    NaN  Montreal, PQ / Chesterville, ON\n",
            "\n",
            "[5 rows x 14 columns]\n"
          ],
          "name": "stdout"
        }
      ]
    },
    {
      "cell_type": "markdown",
      "metadata": {
        "id": "vTk1-mF5WYFN",
        "colab_type": "text"
      },
      "source": [
        "### Preprocessing of the Dataset"
      ]
    },
    {
      "cell_type": "markdown",
      "metadata": {
        "id": "kx9UrI9WWt17",
        "colab_type": "text"
      },
      "source": [
        "\n",
        "\n",
        "---\n",
        "\n",
        "\n",
        "**1. Convert the categorical values of columns 'sex', 'embarked', 'pclass' into dummy values and add them into titanic_data_new DataFrame**\n",
        "\n",
        "\n",
        "\n",
        "\n",
        "---\n",
        "\n"
      ]
    },
    {
      "cell_type": "code",
      "metadata": {
        "id": "AwDh9njbZ0QU",
        "colab_type": "code",
        "colab": {}
      },
      "source": [
        "titanic_data_new=pd.concat([Dataset, pd.get_dummies(Dataset[['sex','embarked','pclass']]).reindex(Dataset.index)], axis=1)"
      ],
      "execution_count": 0,
      "outputs": []
    },
    {
      "cell_type": "markdown",
      "metadata": {
        "id": "Z9bxOfzDbY-n",
        "colab_type": "text"
      },
      "source": [
        "\n",
        "\n",
        "---\n",
        "\n",
        "\n",
        "**2. Fill the missing data in Age and Fare columns with the mean value of the respected column then add these columns to titanic_data_new**\n",
        "\n",
        "\n",
        "---\n",
        "\n"
      ]
    },
    {
      "cell_type": "code",
      "metadata": {
        "id": "DNx7Pr0ehhAs",
        "colab_type": "code",
        "colab": {
          "base_uri": "https://localhost:8080/",
          "height": 187
        },
        "outputId": "af2914e5-5fb4-44c5-cbbd-21328b8afbd6"
      },
      "source": [
        "titanic_data_new=titanic_data_new.fillna(titanic_data_new.mean())"
      ],
      "execution_count": 42,
      "outputs": [
        {
          "output_type": "stream",
          "text": [
            "/usr/local/lib/python3.6/dist-packages/pandas/core/frame.py:4153: SettingWithCopyWarning: \n",
            "A value is trying to be set on a copy of a slice from a DataFrame\n",
            "\n",
            "See the caveats in the documentation: https://pandas.pydata.org/pandas-docs/stable/user_guide/indexing.html#returning-a-view-versus-a-copy\n",
            "  downcast=downcast,\n",
            "/usr/local/lib/python3.6/dist-packages/pandas/core/generic.py:6245: SettingWithCopyWarning: \n",
            "A value is trying to be set on a copy of a slice from a DataFrame\n",
            "\n",
            "See the caveats in the documentation: https://pandas.pydata.org/pandas-docs/stable/user_guide/indexing.html#returning-a-view-versus-a-copy\n",
            "  self._update_inplace(new_data)\n"
          ],
          "name": "stderr"
        }
      ]
    },
    {
      "cell_type": "markdown",
      "metadata": {
        "id": "SlRzKfhxkd1M",
        "colab_type": "text"
      },
      "source": [
        "###Normalization\n",
        "\n",
        "\n",
        "---\n",
        "\n",
        "\n",
        "\n",
        "1. Normalize the columns which have numerical data\n",
        "\n",
        "\n",
        "\n",
        "---\n",
        "\n"
      ]
    },
    {
      "cell_type": "code",
      "metadata": {
        "id": "Y3hpu92TlM38",
        "colab_type": "code",
        "colab": {}
      },
      "source": [
        "titanic_data_new['normalized_age']=(titanic_data_new['age']-titanic_data_new['age'].min())/(titanic_data_new['age'].max()-titanic_data_new['age'].min())\n",
        "titanic_data_new['normalized_fare']=(titanic_data_new['fare']-titanic_data_new['fare'].min())/(titanic_data_new['fare'].max()-titanic_data_new['fare'].min())"
      ],
      "execution_count": 0,
      "outputs": []
    },
    {
      "cell_type": "markdown",
      "metadata": {
        "id": "wB9-5x83mFAO",
        "colab_type": "text"
      },
      "source": [
        "\n",
        "\n",
        "---\n",
        "2. Drop the original age, fare columns\n",
        "3. Append the normalized columns to the titanic_data_new DataFrame.\n",
        "\n",
        "\n",
        "\n",
        "---\n",
        "\n"
      ]
    },
    {
      "cell_type": "code",
      "metadata": {
        "id": "Kb00kM0onQJy",
        "colab_type": "code",
        "colab": {}
      },
      "source": [
        "titanic_data_new=titanic_data_new.drop(columns=['age', 'fare'])"
      ],
      "execution_count": 0,
      "outputs": []
    },
    {
      "cell_type": "markdown",
      "metadata": {
        "id": "uLxN3PozntKe",
        "colab_type": "text"
      },
      "source": [
        "###Plotting\n",
        "1. plot the age against the ID(continuous)\n",
        "2. plot the fare against the ID(scatter)"
      ]
    },
    {
      "cell_type": "code",
      "metadata": {
        "id": "LdSfNEKYn_RO",
        "colab_type": "code",
        "colab": {
          "base_uri": "https://localhost:8080/",
          "height": 558
        },
        "outputId": "82b2cab4-2658-40fa-acc3-2bf954128dde"
      },
      "source": [
        "titanic_data_new.reset_index().plot.scatter(x='index',y='normalized_age')\n",
        "titanic_data_new.reset_index().plot(x='index',y='normalized_age')"
      ],
      "execution_count": 45,
      "outputs": [
        {
          "output_type": "execute_result",
          "data": {
            "text/plain": [
              "<matplotlib.axes._subplots.AxesSubplot at 0x7efe7af3e2b0>"
            ]
          },
          "metadata": {
            "tags": []
          },
          "execution_count": 45
        },
        {
          "output_type": "display_data",
          "data": {
            "image/png": "[encoded data removed]",
            "text/plain": [
              "<Figure size 432x288 with 1 Axes>"
            ]
          },
          "metadata": {
            "tags": [],
            "needs_background": "light"
          }
        },
        {
          "output_type": "display_data",
          "data": {
            "image/png": "[encoded data removed]",
            "text/plain": [
              "<Figure size 432x288 with 1 Axes>"
            ]
          },
          "metadata": {
            "tags": [],
            "needs_background": "light"
          }
        }
      ]
    },
    {
      "cell_type": "markdown",
      "metadata": {
        "id": "LQr7y6eevTvy",
        "colab_type": "text"
      },
      "source": [
        "## End of Part - 2\n",
        "---"
      ]
    },
    {
      "cell_type": "markdown",
      "metadata": {
        "id": "TWhZcKvfvW2B",
        "colab_type": "text"
      },
      "source": [
        "## Part - 3\n",
        "---"
      ]
    },
    {
      "cell_type": "markdown",
      "metadata": {
        "id": "8bY4H9DszQ2S",
        "colab_type": "text"
      },
      "source": [
        "In this part, you will work with the library ```matplotlib```. Import the ```pyplot``` from ```matplotlib``` with an alias name ```plt```."
      ]
    },
    {
      "cell_type": "code",
      "metadata": {
        "id": "hPN6qctRzknT",
        "colab_type": "code",
        "colab": {}
      },
      "source": [
        "import matplotlib.pyplot as plt"
      ],
      "execution_count": 0,
      "outputs": []
    },
    {
      "cell_type": "markdown",
      "metadata": {
        "id": "fQ6KX_Aezlub",
        "colab_type": "text"
      },
      "source": [
        "Plot the sine function with domain in $[-3\\pi,3\\pi]$. Label the axes appropriately. Add title $\\sin(x)$. Use latex formatting while adding the title. Set the plot size to (10,10)"
      ]
    },
    {
      "cell_type": "code",
      "metadata": {
        "id": "0tA3J5mA1cQ0",
        "colab_type": "code",
        "colab": {
          "base_uri": "https://localhost:8080/",
          "height": 312
        },
        "outputId": "c2b5622d-d566-44c0-a0a0-5d3d36dba6ed"
      },
      "source": [
        "x=np.arange(-3*np.pi,3*np.pi,0.01)\n",
        "y=np.sin(x)\n",
        "plt.title(r'sin(x)')\n",
        "plt.xlabel('x')\n",
        "plt.ylabel('sin(x)')\n",
        "plt.plot(x,y)"
      ],
      "execution_count": 47,
      "outputs": [
        {
          "output_type": "execute_result",
          "data": {
            "text/plain": [
              "[<matplotlib.lines.Line2D at 0x7efe7aed3518>]"
            ]
          },
          "metadata": {
            "tags": []
          },
          "execution_count": 47
        },
        {
          "output_type": "display_data",
          "data": {
            "image/png": "[encoded data removed]",
            "text/plain": [
              "<Figure size 432x288 with 1 Axes>"
            ]
          },
          "metadata": {
            "tags": [],
            "needs_background": "light"
          }
        }
      ]
    },
    {
      "cell_type": "markdown",
      "metadata": {
        "id": "6KV7RqMm1d8P",
        "colab_type": "text"
      },
      "source": [
        "Plot $\\sin(x)$ and its spectrum, $\\cos(x)$ and its spectrum in a single plot, in the domain $[-2\\pi,2\\pi]$. Label the plot appropriately."
      ]
    },
    {
      "cell_type": "code",
      "metadata": {
        "id": "-OJuY0HO12Oo",
        "colab_type": "code",
        "colab": {
          "base_uri": "https://localhost:8080/",
          "height": 296
        },
        "outputId": "52ace834-8eaa-4826-a729-45fa6874a3fb"
      },
      "source": [
        "x=np.arange(-2*np.pi,2*np.pi,0.01)\n",
        "y=np.sin(x)\n",
        "z=np.cos(x)\n",
        "plt.plot(x,y,label='sin(x)')\n",
        "plt.plot(x,z,label='cos(x)')\n",
        "plt.xlabel('x')\n",
        "plt.ylabel('spectrum of sin(x) and cos(x)')\n",
        "plt.legend()"
      ],
      "execution_count": 48,
      "outputs": [
        {
          "output_type": "execute_result",
          "data": {
            "text/plain": [
              "<matplotlib.legend.Legend at 0x7efe7ae5ae48>"
            ]
          },
          "metadata": {
            "tags": []
          },
          "execution_count": 48
        },
        {
          "output_type": "display_data",
          "data": {
            "image/png": "[encoded data removed]",
            "text/plain": [
              "<Figure size 432x288 with 1 Axes>"
            ]
          },
          "metadata": {
            "tags": [],
            "needs_background": "light"
          }
        }
      ]
    },
    {
      "cell_type": "markdown",
      "metadata": {
        "id": "1S6ZRm6B18ZF",
        "colab_type": "text"
      },
      "source": [
        "## End of Part - 3\n",
        "---"
      ]
    },
    {
      "cell_type": "markdown",
      "metadata": {
        "id": "MUucpzXBl096",
        "colab_type": "text"
      },
      "source": [
        "Create a Github repository with the name ***SHALA2020*** and save this assignment there."
      ]
    }
  ]
}